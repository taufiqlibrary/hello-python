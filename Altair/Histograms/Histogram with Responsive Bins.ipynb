{
 "cells": [
  {
   "cell_type": "code",
   "execution_count": null,
   "id": "70b904fb-589b-4822-826e-f7c54dcf127e",
   "metadata": {},
   "outputs": [],
   "source": [
    "import altair as alt\n",
    "from vega_datasets import data\n",
    "\n",
    "source = data.flights_5k.url\n",
    "\n",
    "brush = alt.selection_interval(encodings=['x'])\n",
    "\n",
    "base = alt.Chart(source).transform_calculate(\n",
    "    time=\"hours(datum.date) + minutes(datum.date) / 60\"\n",
    ").mark_bar().encode(\n",
    "    y='count():Q'\n",
    ").properties(\n",
    "    width=600,\n",
    "    height=100\n",
    ")\n",
    "\n",
    "alt.vconcat(\n",
    "    base.encode(\n",
    "        alt.X('time:Q',\n",
    "             bin=alt.Bin(maxbins=30, extent=brush),\n",
    "             scale=alt.Scale(domain=brush)\n",
    "             )\n",
    "    ),\n",
    "    base.encode(\n",
    "        alt.X('time:Q', bin=alt.Bin(maxbins=30)),\n",
    "    ).add_selection(brush)\n",
    ")"
   ]
  }
 ],
 "metadata": {
  "kernelspec": {
   "display_name": "Python 3",
   "language": "python",
   "name": "python3"
  },
  "language_info": {
   "codemirror_mode": {
    "name": "ipython",
    "version": 3
   },
   "file_extension": ".py",
   "mimetype": "text/x-python",
   "name": "python",
   "nbconvert_exporter": "python",
   "pygments_lexer": "ipython3",
   "version": "3.8.8"
  }
 },
 "nbformat": 4,
 "nbformat_minor": 5
}
