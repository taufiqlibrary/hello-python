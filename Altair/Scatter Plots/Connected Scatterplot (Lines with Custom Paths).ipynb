{
 "cells": [
  {
   "cell_type": "code",
   "execution_count": 2,
   "id": "1a9d2d1f-2e1d-4313-bef3-9b4751b7f9c2",
   "metadata": {},
   "outputs": [
    {
     "data": {
      "text/html": [
       "\n",
       "<div id=\"altair-viz-fec35c8ac94540eeb0e7cadffaedc738\"></div>\n",
       "<script type=\"text/javascript\">\n",
       "  (function(spec, embedOpt){\n",
       "    let outputDiv = document.currentScript.previousElementSibling;\n",
       "    if (outputDiv.id !== \"altair-viz-fec35c8ac94540eeb0e7cadffaedc738\") {\n",
       "      outputDiv = document.getElementById(\"altair-viz-fec35c8ac94540eeb0e7cadffaedc738\");\n",
       "    }\n",
       "    const paths = {\n",
       "      \"vega\": \"https://cdn.jsdelivr.net/npm//vega@5?noext\",\n",
       "      \"vega-lib\": \"https://cdn.jsdelivr.net/npm//vega-lib?noext\",\n",
       "      \"vega-lite\": \"https://cdn.jsdelivr.net/npm//vega-lite@4.8.1?noext\",\n",
       "      \"vega-embed\": \"https://cdn.jsdelivr.net/npm//vega-embed@6?noext\",\n",
       "    };\n",
       "\n",
       "    function loadScript(lib) {\n",
       "      return new Promise(function(resolve, reject) {\n",
       "        var s = document.createElement('script');\n",
       "        s.src = paths[lib];\n",
       "        s.async = true;\n",
       "        s.onload = () => resolve(paths[lib]);\n",
       "        s.onerror = () => reject(`Error loading script: ${paths[lib]}`);\n",
       "        document.getElementsByTagName(\"head\")[0].appendChild(s);\n",
       "      });\n",
       "    }\n",
       "\n",
       "    function showError(err) {\n",
       "      outputDiv.innerHTML = `<div class=\"error\" style=\"color:red;\">${err}</div>`;\n",
       "      throw err;\n",
       "    }\n",
       "\n",
       "    function displayChart(vegaEmbed) {\n",
       "      vegaEmbed(outputDiv, spec, embedOpt)\n",
       "        .catch(err => showError(`Javascript Error: ${err.message}<br>This usually means there's a typo in your chart specification. See the javascript console for the full traceback.`));\n",
       "    }\n",
       "\n",
       "    if(typeof define === \"function\" && define.amd) {\n",
       "      requirejs.config({paths});\n",
       "      require([\"vega-embed\"], displayChart, err => showError(`Error loading script: ${err.message}`));\n",
       "    } else if (typeof vegaEmbed === \"function\") {\n",
       "      displayChart(vegaEmbed);\n",
       "    } else {\n",
       "      loadScript(\"vega\")\n",
       "        .then(() => loadScript(\"vega-lite\"))\n",
       "        .then(() => loadScript(\"vega-embed\"))\n",
       "        .catch(showError)\n",
       "        .then(() => displayChart(vegaEmbed));\n",
       "    }\n",
       "  })({\"config\": {\"view\": {\"continuousWidth\": 400, \"continuousHeight\": 300}}, \"data\": {\"name\": \"data-e24c277102dddc2eceb7d9aaeb087c70\"}, \"mark\": {\"type\": \"line\", \"point\": true}, \"encoding\": {\"order\": {\"type\": \"quantitative\", \"field\": \"year\"}, \"x\": {\"type\": \"quantitative\", \"field\": \"miles\", \"scale\": {\"zero\": false}}, \"y\": {\"type\": \"quantitative\", \"field\": \"gas\", \"scale\": {\"zero\": false}}}, \"$schema\": \"https://vega.github.io/schema/vega-lite/v4.8.1.json\", \"datasets\": {\"data-e24c277102dddc2eceb7d9aaeb087c70\": [{\"side\": \"left\", \"year\": 1956, \"miles\": 3675, \"gas\": 2.38}, {\"side\": \"right\", \"year\": 1957, \"miles\": 3706, \"gas\": 2.4}, {\"side\": \"bottom\", \"year\": 1958, \"miles\": 3766, \"gas\": 2.26}, {\"side\": \"top\", \"year\": 1959, \"miles\": 3905, \"gas\": 2.31}, {\"side\": \"right\", \"year\": 1960, \"miles\": 3935, \"gas\": 2.27}, {\"side\": \"bottom\", \"year\": 1961, \"miles\": 3977, \"gas\": 2.25}, {\"side\": \"right\", \"year\": 1962, \"miles\": 4085, \"gas\": 2.22}, {\"side\": \"bottom\", \"year\": 1963, \"miles\": 4218, \"gas\": 2.12}, {\"side\": \"bottom\", \"year\": 1964, \"miles\": 4369, \"gas\": 2.11}, {\"side\": \"bottom\", \"year\": 1965, \"miles\": 4538, \"gas\": 2.14}, {\"side\": \"top\", \"year\": 1966, \"miles\": 4676, \"gas\": 2.14}, {\"side\": \"bottom\", \"year\": 1967, \"miles\": 4827, \"gas\": 2.14}, {\"side\": \"right\", \"year\": 1968, \"miles\": 5038, \"gas\": 2.13}, {\"side\": \"right\", \"year\": 1969, \"miles\": 5207, \"gas\": 2.07}, {\"side\": \"right\", \"year\": 1970, \"miles\": 5376, \"gas\": 2.01}, {\"side\": \"bottom\", \"year\": 1971, \"miles\": 5617, \"gas\": 1.9300000000000002}, {\"side\": \"bottom\", \"year\": 1972, \"miles\": 5973, \"gas\": 1.87}, {\"side\": \"right\", \"year\": 1973, \"miles\": 6154, \"gas\": 1.9}, {\"side\": \"left\", \"year\": 1974, \"miles\": 5943, \"gas\": 2.34}, {\"side\": \"bottom\", \"year\": 1975, \"miles\": 6111, \"gas\": 2.31}, {\"side\": \"bottom\", \"year\": 1976, \"miles\": 6389, \"gas\": 2.32}, {\"side\": \"top\", \"year\": 1977, \"miles\": 6630, \"gas\": 2.36}, {\"side\": \"bottom\", \"year\": 1978, \"miles\": 6883, \"gas\": 2.23}, {\"side\": \"left\", \"year\": 1979, \"miles\": 6744, \"gas\": 2.68}, {\"side\": \"left\", \"year\": 1980, \"miles\": 6672, \"gas\": 3.3}, {\"side\": \"right\", \"year\": 1981, \"miles\": 6732, \"gas\": 3.3}, {\"side\": \"right\", \"year\": 1982, \"miles\": 6835, \"gas\": 2.92}, {\"side\": \"right\", \"year\": 1983, \"miles\": 6943, \"gas\": 2.66}, {\"side\": \"right\", \"year\": 1984, \"miles\": 7130, \"gas\": 2.48}, {\"side\": \"right\", \"year\": 1985, \"miles\": 7323, \"gas\": 2.36}, {\"side\": \"left\", \"year\": 1986, \"miles\": 7558, \"gas\": 1.76}, {\"side\": \"top\", \"year\": 1987, \"miles\": 7770, \"gas\": 1.76}, {\"side\": \"bottom\", \"year\": 1988, \"miles\": 8089, \"gas\": 1.6800000000000002}, {\"side\": \"left\", \"year\": 1989, \"miles\": 8397, \"gas\": 1.75}, {\"side\": \"top\", \"year\": 1990, \"miles\": 8529, \"gas\": 1.88}, {\"side\": \"right\", \"year\": 1991, \"miles\": 8535, \"gas\": 1.78}, {\"side\": \"right\", \"year\": 1992, \"miles\": 8662, \"gas\": 1.69}, {\"side\": \"left\", \"year\": 1993, \"miles\": 8855, \"gas\": 1.6}, {\"side\": \"bottom\", \"year\": 1994, \"miles\": 8909, \"gas\": 1.5899999999999999}, {\"side\": \"bottom\", \"year\": 1995, \"miles\": 9150, \"gas\": 1.6}, {\"side\": \"top\", \"year\": 1996, \"miles\": 9192, \"gas\": 1.67}, {\"side\": \"right\", \"year\": 1997, \"miles\": 9416, \"gas\": 1.65}, {\"side\": \"bottom\", \"year\": 1998, \"miles\": 9590, \"gas\": 1.3900000000000001}, {\"side\": \"right\", \"year\": 1999, \"miles\": 9687, \"gas\": 1.5}, {\"side\": \"top\", \"year\": 2000, \"miles\": 9717, \"gas\": 1.8900000000000001}, {\"side\": \"left\", \"year\": 2001, \"miles\": 9699, \"gas\": 1.77}, {\"side\": \"bottom\", \"year\": 2002, \"miles\": 9814, \"gas\": 1.6400000000000001}, {\"side\": \"right\", \"year\": 2003, \"miles\": 9868, \"gas\": 1.8599999999999999}, {\"side\": \"left\", \"year\": 2004, \"miles\": 9994, \"gas\": 2.14}, {\"side\": \"left\", \"year\": 2005, \"miles\": 10067, \"gas\": 2.5300000000000002}, {\"side\": \"right\", \"year\": 2006, \"miles\": 10037, \"gas\": 2.79}, {\"side\": \"right\", \"year\": 2007, \"miles\": 10025, \"gas\": 2.95}, {\"side\": \"left\", \"year\": 2008, \"miles\": 9880, \"gas\": 3.31}, {\"side\": \"bottom\", \"year\": 2009, \"miles\": 9657, \"gas\": 2.38}, {\"side\": \"left\", \"year\": 2010, \"miles\": 9596, \"gas\": 2.61}]}}, {\"mode\": \"vega-lite\"});\n",
       "</script>"
      ],
      "text/plain": [
       "alt.Chart(...)"
      ]
     },
     "execution_count": 2,
     "metadata": {},
     "output_type": "execute_result"
    }
   ],
   "source": [
    "import altair as alt\n",
    "from vega_datasets import data\n",
    "\n",
    "source = data.driving()\n",
    "\n",
    "alt.Chart(source).mark_line(point=True).encode(\n",
    "    alt.X('miles', scale=alt.Scale(zero=False)),\n",
    "    alt.Y('gas', scale=alt.Scale(zero=False)),\n",
    "    order='year'\n",
    ")"
   ]
  },
  {
   "cell_type": "code",
   "execution_count": null,
   "id": "5f309eef-4522-41b8-a98a-2155f05cbcd9",
   "metadata": {},
   "outputs": [],
   "source": []
  }
 ],
 "metadata": {
  "kernelspec": {
   "display_name": "Python 3",
   "language": "python",
   "name": "python3"
  },
  "language_info": {
   "codemirror_mode": {
    "name": "ipython",
    "version": 3
   },
   "file_extension": ".py",
   "mimetype": "text/x-python",
   "name": "python",
   "nbconvert_exporter": "python",
   "pygments_lexer": "ipython3",
   "version": "3.8.8"
  }
 },
 "nbformat": 4,
 "nbformat_minor": 5
}
