{
 "cells": [
  {
   "cell_type": "code",
   "execution_count": 1,
   "id": "ba68a8a1-0ce2-444d-a2cb-37a45e323e76",
   "metadata": {},
   "outputs": [
    {
     "data": {
      "text/html": [
       "\n",
       "<div id=\"altair-viz-0c2188fa982b4c229480b6c8edde6839\"></div>\n",
       "<script type=\"text/javascript\">\n",
       "  (function(spec, embedOpt){\n",
       "    let outputDiv = document.currentScript.previousElementSibling;\n",
       "    if (outputDiv.id !== \"altair-viz-0c2188fa982b4c229480b6c8edde6839\") {\n",
       "      outputDiv = document.getElementById(\"altair-viz-0c2188fa982b4c229480b6c8edde6839\");\n",
       "    }\n",
       "    const paths = {\n",
       "      \"vega\": \"https://cdn.jsdelivr.net/npm//vega@5?noext\",\n",
       "      \"vega-lib\": \"https://cdn.jsdelivr.net/npm//vega-lib?noext\",\n",
       "      \"vega-lite\": \"https://cdn.jsdelivr.net/npm//vega-lite@4.8.1?noext\",\n",
       "      \"vega-embed\": \"https://cdn.jsdelivr.net/npm//vega-embed@6?noext\",\n",
       "    };\n",
       "\n",
       "    function loadScript(lib) {\n",
       "      return new Promise(function(resolve, reject) {\n",
       "        var s = document.createElement('script');\n",
       "        s.src = paths[lib];\n",
       "        s.async = true;\n",
       "        s.onload = () => resolve(paths[lib]);\n",
       "        s.onerror = () => reject(`Error loading script: ${paths[lib]}`);\n",
       "        document.getElementsByTagName(\"head\")[0].appendChild(s);\n",
       "      });\n",
       "    }\n",
       "\n",
       "    function showError(err) {\n",
       "      outputDiv.innerHTML = `<div class=\"error\" style=\"color:red;\">${err}</div>`;\n",
       "      throw err;\n",
       "    }\n",
       "\n",
       "    function displayChart(vegaEmbed) {\n",
       "      vegaEmbed(outputDiv, spec, embedOpt)\n",
       "        .catch(err => showError(`Javascript Error: ${err.message}<br>This usually means there's a typo in your chart specification. See the javascript console for the full traceback.`));\n",
       "    }\n",
       "\n",
       "    if(typeof define === \"function\" && define.amd) {\n",
       "      requirejs.config({paths});\n",
       "      require([\"vega-embed\"], displayChart, err => showError(`Error loading script: ${err.message}`));\n",
       "    } else if (typeof vegaEmbed === \"function\") {\n",
       "      displayChart(vegaEmbed);\n",
       "    } else {\n",
       "      loadScript(\"vega\")\n",
       "        .then(() => loadScript(\"vega-lite\"))\n",
       "        .then(() => loadScript(\"vega-embed\"))\n",
       "        .catch(showError)\n",
       "        .then(() => displayChart(vegaEmbed));\n",
       "    }\n",
       "  })({\"config\": {\"view\": {\"continuousWidth\": 400, \"continuousHeight\": 300}}, \"hconcat\": [{\"mark\": \"point\", \"encoding\": {\"x\": {\"type\": \"quantitative\", \"field\": \"uniform\"}, \"y\": {\"type\": \"quantitative\", \"field\": \"v\"}}, \"transform\": [{\"quantile\": \"u\", \"step\": 0.01, \"as\": [\"p\", \"v\"]}, {\"calculate\": \"quantileUniform(datum.p)\", \"as\": \"uniform\"}, {\"calculate\": \"quantileNormal(datum.p)\", \"as\": \"normal\"}]}, {\"mark\": \"point\", \"encoding\": {\"x\": {\"type\": \"quantitative\", \"field\": \"normal\"}, \"y\": {\"type\": \"quantitative\", \"field\": \"v\"}}, \"transform\": [{\"quantile\": \"u\", \"step\": 0.01, \"as\": [\"p\", \"v\"]}, {\"calculate\": \"quantileUniform(datum.p)\", \"as\": \"uniform\"}, {\"calculate\": \"quantileNormal(datum.p)\", \"as\": \"normal\"}]}], \"data\": {\"url\": \"https://cdn.jsdelivr.net/npm/vega-datasets@v1.29.0/data/normal-2d.json\"}, \"$schema\": \"https://vega.github.io/schema/vega-lite/v4.8.1.json\"}, {\"mode\": \"vega-lite\"});\n",
       "</script>"
      ],
      "text/plain": [
       "alt.HConcatChart(...)"
      ]
     },
     "execution_count": 1,
     "metadata": {},
     "output_type": "execute_result"
    }
   ],
   "source": [
    "import altair as alt\n",
    "from vega_datasets import data\n",
    "\n",
    "source = data.normal_2d.url\n",
    "\n",
    "base = alt.Chart(source).transform_quantile(\n",
    "    'u',\n",
    "    step=0.01,\n",
    "    as_ = ['p', 'v']\n",
    ").transform_calculate(\n",
    "    uniform = 'quantileUniform(datum.p)',\n",
    "    normal = 'quantileNormal(datum.p)'\n",
    ").mark_point().encode(\n",
    "    alt.Y('v:Q')\n",
    ")\n",
    "\n",
    "base.encode(x='uniform:Q') | base.encode(x='normal:Q')"
   ]
  },
  {
   "cell_type": "code",
   "execution_count": null,
   "id": "affdcc64-367f-4dcd-b29c-2dd3c41475c4",
   "metadata": {},
   "outputs": [],
   "source": []
  }
 ],
 "metadata": {
  "kernelspec": {
   "display_name": "Python 3",
   "language": "python",
   "name": "python3"
  },
  "language_info": {
   "codemirror_mode": {
    "name": "ipython",
    "version": 3
   },
   "file_extension": ".py",
   "mimetype": "text/x-python",
   "name": "python",
   "nbconvert_exporter": "python",
   "pygments_lexer": "ipython3",
   "version": "3.8.8"
  }
 },
 "nbformat": 4,
 "nbformat_minor": 5
}
