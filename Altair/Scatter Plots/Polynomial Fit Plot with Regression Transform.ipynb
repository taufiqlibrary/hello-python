{
 "cells": [
  {
   "cell_type": "code",
   "execution_count": 2,
   "id": "c090bba2-d975-48f8-b370-11073b0b1f07",
   "metadata": {},
   "outputs": [
    {
     "data": {
      "text/html": [
       "\n",
       "<div id=\"altair-viz-c74afc6a10714efb84c3015bae143dbb\"></div>\n",
       "<script type=\"text/javascript\">\n",
       "  (function(spec, embedOpt){\n",
       "    let outputDiv = document.currentScript.previousElementSibling;\n",
       "    if (outputDiv.id !== \"altair-viz-c74afc6a10714efb84c3015bae143dbb\") {\n",
       "      outputDiv = document.getElementById(\"altair-viz-c74afc6a10714efb84c3015bae143dbb\");\n",
       "    }\n",
       "    const paths = {\n",
       "      \"vega\": \"https://cdn.jsdelivr.net/npm//vega@5?noext\",\n",
       "      \"vega-lib\": \"https://cdn.jsdelivr.net/npm//vega-lib?noext\",\n",
       "      \"vega-lite\": \"https://cdn.jsdelivr.net/npm//vega-lite@4.8.1?noext\",\n",
       "      \"vega-embed\": \"https://cdn.jsdelivr.net/npm//vega-embed@6?noext\",\n",
       "    };\n",
       "\n",
       "    function loadScript(lib) {\n",
       "      return new Promise(function(resolve, reject) {\n",
       "        var s = document.createElement('script');\n",
       "        s.src = paths[lib];\n",
       "        s.async = true;\n",
       "        s.onload = () => resolve(paths[lib]);\n",
       "        s.onerror = () => reject(`Error loading script: ${paths[lib]}`);\n",
       "        document.getElementsByTagName(\"head\")[0].appendChild(s);\n",
       "      });\n",
       "    }\n",
       "\n",
       "    function showError(err) {\n",
       "      outputDiv.innerHTML = `<div class=\"error\" style=\"color:red;\">${err}</div>`;\n",
       "      throw err;\n",
       "    }\n",
       "\n",
       "    function displayChart(vegaEmbed) {\n",
       "      vegaEmbed(outputDiv, spec, embedOpt)\n",
       "        .catch(err => showError(`Javascript Error: ${err.message}<br>This usually means there's a typo in your chart specification. See the javascript console for the full traceback.`));\n",
       "    }\n",
       "\n",
       "    if(typeof define === \"function\" && define.amd) {\n",
       "      requirejs.config({paths});\n",
       "      require([\"vega-embed\"], displayChart, err => showError(`Error loading script: ${err.message}`));\n",
       "    } else if (typeof vegaEmbed === \"function\") {\n",
       "      displayChart(vegaEmbed);\n",
       "    } else {\n",
       "      loadScript(\"vega\")\n",
       "        .then(() => loadScript(\"vega-lite\"))\n",
       "        .then(() => loadScript(\"vega-embed\"))\n",
       "        .catch(showError)\n",
       "        .then(() => displayChart(vegaEmbed));\n",
       "    }\n",
       "  })({\"config\": {\"view\": {\"continuousWidth\": 400, \"continuousHeight\": 300}}, \"layer\": [{\"mark\": {\"type\": \"circle\", \"color\": \"black\"}, \"encoding\": {\"x\": {\"type\": \"quantitative\", \"field\": \"x\"}, \"y\": {\"type\": \"quantitative\", \"field\": \"y\"}}}, {\"mark\": \"line\", \"encoding\": {\"color\": {\"type\": \"nominal\", \"field\": \"degree\"}, \"x\": {\"type\": \"quantitative\", \"field\": \"x\"}, \"y\": {\"type\": \"quantitative\", \"field\": \"y\"}}, \"transform\": [{\"on\": \"x\", \"regression\": \"y\", \"method\": \"poly\", \"order\": 1, \"as\": [\"x\", \"1\"]}, {\"fold\": [\"1\"], \"as\": [\"degree\", \"y\"]}]}, {\"mark\": \"line\", \"encoding\": {\"color\": {\"type\": \"nominal\", \"field\": \"degree\"}, \"x\": {\"type\": \"quantitative\", \"field\": \"x\"}, \"y\": {\"type\": \"quantitative\", \"field\": \"y\"}}, \"transform\": [{\"on\": \"x\", \"regression\": \"y\", \"method\": \"poly\", \"order\": 3, \"as\": [\"x\", \"3\"]}, {\"fold\": [\"3\"], \"as\": [\"degree\", \"y\"]}]}, {\"mark\": \"line\", \"encoding\": {\"color\": {\"type\": \"nominal\", \"field\": \"degree\"}, \"x\": {\"type\": \"quantitative\", \"field\": \"x\"}, \"y\": {\"type\": \"quantitative\", \"field\": \"y\"}}, \"transform\": [{\"on\": \"x\", \"regression\": \"y\", \"method\": \"poly\", \"order\": 5, \"as\": [\"x\", \"5\"]}, {\"fold\": [\"5\"], \"as\": [\"degree\", \"y\"]}]}], \"data\": {\"name\": \"data-7c0ed963b624a8fefad4a2e488182d95\"}, \"$schema\": \"https://vega.github.io/schema/vega-lite/v4.8.1.json\", \"datasets\": {\"data-7c0ed963b624a8fefad4a2e488182d95\": [{\"x\": 0.17390735240615365, \"y\": 7.249986444610934}, {\"x\": 0.5188673758527017, \"y\": 7.700417049705122}, {\"x\": 1.308159884267618e-08, \"y\": -0.12288891735893429}, {\"x\": 0.09140498447418667, \"y\": 3.839706226695507}, {\"x\": 0.021537291489524404, \"y\": 1.5041846089759645}, {\"x\": 0.008526416083876252, \"y\": 1.3160089870098304}, {\"x\": 0.034692866342454644, \"y\": 1.8840410864290986}, {\"x\": 0.11941221607451975, \"y\": 5.045615098324098}, {\"x\": 0.15742442860738534, \"y\": 5.42819208709271}, {\"x\": 0.2903234728420443, \"y\": 6.592816743579108}, {\"x\": 0.17572404090581414, \"y\": 5.7019391862114155}, {\"x\": 0.4695257637239847, \"y\": 8.231488583087733}, {\"x\": 0.04180072242027877, \"y\": 1.8305394018326293}, {\"x\": 0.7710902320938061, \"y\": 9.086428998900335}, {\"x\": 0.0007500802611750914, \"y\": 1.7342517715152217}, {\"x\": 0.4495266822048259, \"y\": 8.92229630777468}, {\"x\": 0.1741432980786669, \"y\": 6.1604371203300055}, {\"x\": 0.3121343244087434, \"y\": 6.685977647219328}, {\"x\": 0.019708492528141937, \"y\": 0.8992155024531971}, {\"x\": 0.03924419997764635, \"y\": 4.510826927052562}, {\"x\": 0.6411918642633713, \"y\": 8.701629426983882}, {\"x\": 0.9375304790146106, \"y\": 8.399177246443154}, {\"x\": 0.0982347154547968, \"y\": 5.14639037358505}, {\"x\": 0.4793106041672008, \"y\": 10.374065433050973}, {\"x\": 0.7680579462621686, \"y\": 8.9681621251892}, {\"x\": 0.8003210823854859, \"y\": 9.506488255235274}, {\"x\": 0.007232517887507462, \"y\": 0.9746409031323562}, {\"x\": 0.0015252760933674293, \"y\": -0.202013752383839}, {\"x\": 0.028842371409477506, \"y\": 1.0960599260805883}, {\"x\": 0.7711342563292769, \"y\": 8.502728594109872}, {\"x\": 0.009672099724985566, \"y\": 0.673016457606737}, {\"x\": 0.17733163183739564, \"y\": 6.9808318381557335}, {\"x\": 0.9175523519719494, \"y\": 9.856232995124978}, {\"x\": 0.2842652211003585, \"y\": 8.328732818905934}, {\"x\": 0.4786939408084363, \"y\": 8.557558172913389}, {\"x\": 0.09955011340915407, \"y\": 5.873868642718122}, {\"x\": 0.47128352370767496, \"y\": 7.495157737574433}, {\"x\": 0.6966000121901412, \"y\": 9.997532999951734}, {\"x\": 0.0003344610882180793, \"y\": 0.5462644379153829}, {\"x\": 0.5627164932442545, \"y\": 8.192966297733088}]}}, {\"mode\": \"vega-lite\"});\n",
       "</script>"
      ],
      "text/plain": [
       "alt.LayerChart(...)"
      ]
     },
     "execution_count": 2,
     "metadata": {},
     "output_type": "execute_result"
    }
   ],
   "source": [
    "import numpy as np\n",
    "import pandas as pd\n",
    "import altair as alt\n",
    "\n",
    "# Generate some random data\n",
    "rng = np.random.RandomState(1)\n",
    "x = rng.rand(40) ** 2\n",
    "y = 10 - 1.0 / (x + 0.1) + rng.randn(40)\n",
    "source = pd.DataFrame({\"x\": x, \"y\": y})\n",
    "\n",
    "# Define the degree of the polynomial fits\n",
    "degree_list = [1, 3, 5]\n",
    "\n",
    "base = alt.Chart(source).mark_circle(color=\"black\").encode(\n",
    "    alt.X(\"x\"), alt.Y(\"y\")\n",
    ")\n",
    "\n",
    "polynomial_fit = [\n",
    "    base.transform_regression(\n",
    "        \"x\", \"y\", method=\"poly\", order=order, as_=[\"x\", str(order)]\n",
    "    )\n",
    "    .mark_line()\n",
    "    .transform_fold([str(order)], as_=[\"degree\", \"y\"])\n",
    "    .encode(alt.Color(\"degree:N\"))\n",
    "    for order in degree_list\n",
    "]\n",
    "\n",
    "alt.layer(base, *polynomial_fit)"
   ]
  },
  {
   "cell_type": "code",
   "execution_count": null,
   "id": "5ab5e924-7733-4ed8-9e14-0ec0854f52a4",
   "metadata": {},
   "outputs": [],
   "source": []
  }
 ],
 "metadata": {
  "kernelspec": {
   "display_name": "Python 3",
   "language": "python",
   "name": "python3"
  },
  "language_info": {
   "codemirror_mode": {
    "name": "ipython",
    "version": 3
   },
   "file_extension": ".py",
   "mimetype": "text/x-python",
   "name": "python",
   "nbconvert_exporter": "python",
   "pygments_lexer": "ipython3",
   "version": "3.8.8"
  }
 },
 "nbformat": 4,
 "nbformat_minor": 5
}
