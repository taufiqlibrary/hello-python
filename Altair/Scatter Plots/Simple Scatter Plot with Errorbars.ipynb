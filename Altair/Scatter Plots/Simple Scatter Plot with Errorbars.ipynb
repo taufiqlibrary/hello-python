{
 "cells": [
  {
   "cell_type": "code",
   "execution_count": 3,
   "id": "f51dad7b-b5ac-4e96-8e7e-684123cf8cdd",
   "metadata": {},
   "outputs": [
    {
     "data": {
      "text/html": [
       "\n",
       "<div id=\"altair-viz-5fc13f9fb50e4e9eb67db40215e9ef65\"></div>\n",
       "<script type=\"text/javascript\">\n",
       "  (function(spec, embedOpt){\n",
       "    let outputDiv = document.currentScript.previousElementSibling;\n",
       "    if (outputDiv.id !== \"altair-viz-5fc13f9fb50e4e9eb67db40215e9ef65\") {\n",
       "      outputDiv = document.getElementById(\"altair-viz-5fc13f9fb50e4e9eb67db40215e9ef65\");\n",
       "    }\n",
       "    const paths = {\n",
       "      \"vega\": \"https://cdn.jsdelivr.net/npm//vega@5?noext\",\n",
       "      \"vega-lib\": \"https://cdn.jsdelivr.net/npm//vega-lib?noext\",\n",
       "      \"vega-lite\": \"https://cdn.jsdelivr.net/npm//vega-lite@4.8.1?noext\",\n",
       "      \"vega-embed\": \"https://cdn.jsdelivr.net/npm//vega-embed@6?noext\",\n",
       "    };\n",
       "\n",
       "    function loadScript(lib) {\n",
       "      return new Promise(function(resolve, reject) {\n",
       "        var s = document.createElement('script');\n",
       "        s.src = paths[lib];\n",
       "        s.async = true;\n",
       "        s.onload = () => resolve(paths[lib]);\n",
       "        s.onerror = () => reject(`Error loading script: ${paths[lib]}`);\n",
       "        document.getElementsByTagName(\"head\")[0].appendChild(s);\n",
       "      });\n",
       "    }\n",
       "\n",
       "    function showError(err) {\n",
       "      outputDiv.innerHTML = `<div class=\"error\" style=\"color:red;\">${err}</div>`;\n",
       "      throw err;\n",
       "    }\n",
       "\n",
       "    function displayChart(vegaEmbed) {\n",
       "      vegaEmbed(outputDiv, spec, embedOpt)\n",
       "        .catch(err => showError(`Javascript Error: ${err.message}<br>This usually means there's a typo in your chart specification. See the javascript console for the full traceback.`));\n",
       "    }\n",
       "\n",
       "    if(typeof define === \"function\" && define.amd) {\n",
       "      requirejs.config({paths});\n",
       "      require([\"vega-embed\"], displayChart, err => showError(`Error loading script: ${err.message}`));\n",
       "    } else if (typeof vegaEmbed === \"function\") {\n",
       "      displayChart(vegaEmbed);\n",
       "    } else {\n",
       "      loadScript(\"vega\")\n",
       "        .then(() => loadScript(\"vega-lite\"))\n",
       "        .then(() => loadScript(\"vega-embed\"))\n",
       "        .catch(showError)\n",
       "        .then(() => displayChart(vegaEmbed));\n",
       "    }\n",
       "  })({\"config\": {\"view\": {\"continuousWidth\": 400, \"continuousHeight\": 300}}, \"layer\": [{\"mark\": {\"type\": \"point\", \"color\": \"black\", \"filled\": true, \"size\": 50}, \"encoding\": {\"x\": {\"type\": \"quantitative\", \"field\": \"x\", \"scale\": {\"domain\": [0, 6]}}, \"y\": {\"type\": \"quantitative\", \"field\": \"y\", \"scale\": {\"domain\": [10, 11]}}}, \"transform\": [{\"calculate\": \"datum.y-datum.yerr\", \"as\": \"ymin\"}, {\"calculate\": \"datum.y+datum.yerr\", \"as\": \"ymax\"}]}, {\"mark\": \"errorbar\", \"encoding\": {\"x\": {\"type\": \"quantitative\", \"field\": \"x\"}, \"y\": {\"type\": \"quantitative\", \"field\": \"ymin\"}, \"y2\": {\"field\": \"ymax\"}}, \"transform\": [{\"calculate\": \"datum.y-datum.yerr\", \"as\": \"ymin\"}, {\"calculate\": \"datum.y+datum.yerr\", \"as\": \"ymax\"}]}], \"data\": {\"name\": \"data-306b2a55db0733ecb4dd5c7ef21bd267\"}, \"$schema\": \"https://vega.github.io/schema/vega-lite/v4.8.1.json\", \"datasets\": {\"data-306b2a55db0733ecb4dd5c7ef21bd267\": [{\"x\": 1, \"y\": 10.882026172983831, \"yerr\": 0.2}, {\"x\": 2, \"y\": 10.200078604183611, \"yerr\": 0.2}, {\"x\": 3, \"y\": 10.489368992052869, \"yerr\": 0.2}, {\"x\": 4, \"y\": 11.12044659960073, \"yerr\": 0.2}, {\"x\": 5, \"y\": 10.933778995074984, \"yerr\": 0.2}]}}, {\"mode\": \"vega-lite\"});\n",
       "</script>"
      ],
      "text/plain": [
       "alt.LayerChart(...)"
      ]
     },
     "execution_count": 3,
     "metadata": {},
     "output_type": "execute_result"
    }
   ],
   "source": [
    "import altair as alt\n",
    "import pandas as pd\n",
    "import numpy as np\n",
    "\n",
    "# generate some data points with uncertainties\n",
    "np.random.seed(0)\n",
    "x = [1, 2, 3, 4, 5]\n",
    "y = np.random.normal(10, 0.5, size=len(x))\n",
    "yerr = 0.2\n",
    "\n",
    "# set up data frame\n",
    "source = pd.DataFrame({\"x\":x, \"y\":y, \"yerr\":yerr})\n",
    "\n",
    "# the base chart\n",
    "base = alt.Chart(source).transform_calculate(\n",
    "    ymin=\"datum.y-datum.yerr\",\n",
    "    ymax=\"datum.y+datum.yerr\"\n",
    ")\n",
    "\n",
    "# generate the points\n",
    "points = base.mark_point(\n",
    "    filled=True,\n",
    "    size=50,\n",
    "    color='black'\n",
    ").encode(\n",
    "    x=alt.X('x', scale=alt.Scale(domain=(0, 6))),\n",
    "    y=alt.Y('y', scale=alt.Scale(domain=(10, 11)))\n",
    ")\n",
    "\n",
    "# generate the error bars\n",
    "errorbars = base.mark_errorbar().encode(\n",
    "    x=\"x\",\n",
    "    y=\"ymin:Q\",\n",
    "    y2=\"ymax:Q\"\n",
    ")\n",
    "\n",
    "points + errorbars"
   ]
  },
  {
   "cell_type": "code",
   "execution_count": null,
   "id": "e13ab4b1-5aad-4650-8a56-dc085aa60334",
   "metadata": {},
   "outputs": [],
   "source": []
  }
 ],
 "metadata": {
  "kernelspec": {
   "display_name": "Python 3",
   "language": "python",
   "name": "python3"
  },
  "language_info": {
   "codemirror_mode": {
    "name": "ipython",
    "version": 3
   },
   "file_extension": ".py",
   "mimetype": "text/x-python",
   "name": "python",
   "nbconvert_exporter": "python",
   "pygments_lexer": "ipython3",
   "version": "3.8.8"
  }
 },
 "nbformat": 4,
 "nbformat_minor": 5
}
