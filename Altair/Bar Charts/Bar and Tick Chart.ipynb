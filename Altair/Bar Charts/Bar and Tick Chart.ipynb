{
 "cells": [
  {
   "cell_type": "code",
   "execution_count": 1,
   "id": "1ef55969-bcc9-4b40-9078-c5988419b736",
   "metadata": {},
   "outputs": [
    {
     "data": {
      "text/html": [
       "\n",
       "<div id=\"altair-viz-fc0b2b06910d4c0690b377f68e615c8c\"></div>\n",
       "<script type=\"text/javascript\">\n",
       "  (function(spec, embedOpt){\n",
       "    let outputDiv = document.currentScript.previousElementSibling;\n",
       "    if (outputDiv.id !== \"altair-viz-fc0b2b06910d4c0690b377f68e615c8c\") {\n",
       "      outputDiv = document.getElementById(\"altair-viz-fc0b2b06910d4c0690b377f68e615c8c\");\n",
       "    }\n",
       "    const paths = {\n",
       "      \"vega\": \"https://cdn.jsdelivr.net/npm//vega@5?noext\",\n",
       "      \"vega-lib\": \"https://cdn.jsdelivr.net/npm//vega-lib?noext\",\n",
       "      \"vega-lite\": \"https://cdn.jsdelivr.net/npm//vega-lite@4.8.1?noext\",\n",
       "      \"vega-embed\": \"https://cdn.jsdelivr.net/npm//vega-embed@6?noext\",\n",
       "    };\n",
       "\n",
       "    function loadScript(lib) {\n",
       "      return new Promise(function(resolve, reject) {\n",
       "        var s = document.createElement('script');\n",
       "        s.src = paths[lib];\n",
       "        s.async = true;\n",
       "        s.onload = () => resolve(paths[lib]);\n",
       "        s.onerror = () => reject(`Error loading script: ${paths[lib]}`);\n",
       "        document.getElementsByTagName(\"head\")[0].appendChild(s);\n",
       "      });\n",
       "    }\n",
       "\n",
       "    function showError(err) {\n",
       "      outputDiv.innerHTML = `<div class=\"error\" style=\"color:red;\">${err}</div>`;\n",
       "      throw err;\n",
       "    }\n",
       "\n",
       "    function displayChart(vegaEmbed) {\n",
       "      vegaEmbed(outputDiv, spec, embedOpt)\n",
       "        .catch(err => showError(`Javascript Error: ${err.message}<br>This usually means there's a typo in your chart specification. See the javascript console for the full traceback.`));\n",
       "    }\n",
       "\n",
       "    if(typeof define === \"function\" && define.amd) {\n",
       "      requirejs.config({paths});\n",
       "      require([\"vega-embed\"], displayChart, err => showError(`Error loading script: ${err.message}`));\n",
       "    } else if (typeof vegaEmbed === \"function\") {\n",
       "      displayChart(vegaEmbed);\n",
       "    } else {\n",
       "      loadScript(\"vega\")\n",
       "        .then(() => loadScript(\"vega-lite\"))\n",
       "        .then(() => loadScript(\"vega-embed\"))\n",
       "        .catch(showError)\n",
       "        .then(() => displayChart(vegaEmbed));\n",
       "    }\n",
       "  })({\"config\": {\"view\": {\"continuousWidth\": 400, \"continuousHeight\": 300}}, \"layer\": [{\"mark\": \"bar\", \"encoding\": {\"x\": {\"type\": \"nominal\", \"field\": \"project\"}, \"y\": {\"type\": \"quantitative\", \"field\": \"score\"}}, \"width\": {\"step\": 40}}, {\"mark\": {\"type\": \"tick\", \"color\": \"red\", \"size\": 36.0, \"thickness\": 2}, \"encoding\": {\"x\": {\"type\": \"nominal\", \"field\": \"project\"}, \"y\": {\"type\": \"quantitative\", \"field\": \"goal\"}}}], \"data\": {\"name\": \"data-06453710d60ef955b79014b6d9d13b60\"}, \"$schema\": \"https://vega.github.io/schema/vega-lite/v4.8.1.json\", \"datasets\": {\"data-06453710d60ef955b79014b6d9d13b60\": [{\"project\": \"a\", \"score\": 25, \"goal\": 25}, {\"project\": \"b\", \"score\": 57, \"goal\": 47}, {\"project\": \"c\", \"score\": 23, \"goal\": 30}, {\"project\": \"d\", \"score\": 19, \"goal\": 27}, {\"project\": \"e\", \"score\": 8, \"goal\": 38}, {\"project\": \"f\", \"score\": 47, \"goal\": 19}, {\"project\": \"g\", \"score\": 8, \"goal\": 4}]}}, {\"mode\": \"vega-lite\"});\n",
       "</script>"
      ],
      "text/plain": [
       "alt.LayerChart(...)"
      ]
     },
     "execution_count": 1,
     "metadata": {},
     "output_type": "execute_result"
    }
   ],
   "source": [
    "import altair as alt\n",
    "import pandas as pd\n",
    "\n",
    "source = pd.DataFrame({\n",
    "    'project': ['a', 'b', 'c', 'd', 'e', 'f', 'g'],\n",
    "    'score': [25, 57, 23, 19, 8, 47, 8],\n",
    "    'goal': [25, 47, 30, 27, 38, 19, 4]\n",
    "})\n",
    "\n",
    "bar = alt.Chart(source).mark_bar().encode(\n",
    "    x='project',\n",
    "    y='score'\n",
    ").properties(\n",
    "    width=alt.Step(40) # controls width of bar.\n",
    ")\n",
    "\n",
    "tick = alt.Chart(source).mark_tick(\n",
    "    color='red',\n",
    "    thickness=2,\n",
    "    size=40 * 0.9, # controls width of tick.\n",
    ").encode(\n",
    "    x='project',\n",
    "    y='goal'\n",
    ")\n",
    "\n",
    "bar + tick"
   ]
  },
  {
   "cell_type": "code",
   "execution_count": null,
   "id": "36be4a30-fa0d-4a88-968d-562382c77729",
   "metadata": {},
   "outputs": [],
   "source": []
  }
 ],
 "metadata": {
  "kernelspec": {
   "display_name": "Python 3",
   "language": "python",
   "name": "python3"
  },
  "language_info": {
   "codemirror_mode": {
    "name": "ipython",
    "version": 3
   },
   "file_extension": ".py",
   "mimetype": "text/x-python",
   "name": "python",
   "nbconvert_exporter": "python",
   "pygments_lexer": "ipython3",
   "version": "3.8.8"
  }
 },
 "nbformat": 4,
 "nbformat_minor": 5
}
