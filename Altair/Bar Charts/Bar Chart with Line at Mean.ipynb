{
 "cells": [
  {
   "cell_type": "code",
   "execution_count": 1,
   "id": "aeaac3e6-a17f-4268-a69e-677b53bbc47c",
   "metadata": {},
   "outputs": [
    {
     "data": {
      "text/html": [
       "\n",
       "<div id=\"altair-viz-e5267d070c3842aea3e7360787f2ab23\"></div>\n",
       "<script type=\"text/javascript\">\n",
       "  (function(spec, embedOpt){\n",
       "    let outputDiv = document.currentScript.previousElementSibling;\n",
       "    if (outputDiv.id !== \"altair-viz-e5267d070c3842aea3e7360787f2ab23\") {\n",
       "      outputDiv = document.getElementById(\"altair-viz-e5267d070c3842aea3e7360787f2ab23\");\n",
       "    }\n",
       "    const paths = {\n",
       "      \"vega\": \"https://cdn.jsdelivr.net/npm//vega@5?noext\",\n",
       "      \"vega-lib\": \"https://cdn.jsdelivr.net/npm//vega-lib?noext\",\n",
       "      \"vega-lite\": \"https://cdn.jsdelivr.net/npm//vega-lite@4.8.1?noext\",\n",
       "      \"vega-embed\": \"https://cdn.jsdelivr.net/npm//vega-embed@6?noext\",\n",
       "    };\n",
       "\n",
       "    function loadScript(lib) {\n",
       "      return new Promise(function(resolve, reject) {\n",
       "        var s = document.createElement('script');\n",
       "        s.src = paths[lib];\n",
       "        s.async = true;\n",
       "        s.onload = () => resolve(paths[lib]);\n",
       "        s.onerror = () => reject(`Error loading script: ${paths[lib]}`);\n",
       "        document.getElementsByTagName(\"head\")[0].appendChild(s);\n",
       "      });\n",
       "    }\n",
       "\n",
       "    function showError(err) {\n",
       "      outputDiv.innerHTML = `<div class=\"error\" style=\"color:red;\">${err}</div>`;\n",
       "      throw err;\n",
       "    }\n",
       "\n",
       "    function displayChart(vegaEmbed) {\n",
       "      vegaEmbed(outputDiv, spec, embedOpt)\n",
       "        .catch(err => showError(`Javascript Error: ${err.message}<br>This usually means there's a typo in your chart specification. See the javascript console for the full traceback.`));\n",
       "    }\n",
       "\n",
       "    if(typeof define === \"function\" && define.amd) {\n",
       "      requirejs.config({paths});\n",
       "      require([\"vega-embed\"], displayChart, err => showError(`Error loading script: ${err.message}`));\n",
       "    } else if (typeof vegaEmbed === \"function\") {\n",
       "      displayChart(vegaEmbed);\n",
       "    } else {\n",
       "      loadScript(\"vega\")\n",
       "        .then(() => loadScript(\"vega-lite\"))\n",
       "        .then(() => loadScript(\"vega-embed\"))\n",
       "        .catch(showError)\n",
       "        .then(() => displayChart(vegaEmbed));\n",
       "    }\n",
       "  })({\"config\": {\"view\": {\"continuousWidth\": 400, \"continuousHeight\": 300}}, \"layer\": [{\"mark\": \"bar\", \"encoding\": {\"x\": {\"type\": \"ordinal\", \"field\": \"year\"}, \"y\": {\"type\": \"quantitative\", \"field\": \"wheat\"}}}, {\"mark\": {\"type\": \"rule\", \"color\": \"red\"}, \"encoding\": {\"y\": {\"type\": \"quantitative\", \"aggregate\": \"mean\", \"field\": \"wheat\"}}}], \"data\": {\"name\": \"data-76d1ce26ea5761007c35827e1564d86c\"}, \"width\": 600, \"$schema\": \"https://vega.github.io/schema/vega-lite/v4.8.1.json\", \"datasets\": {\"data-76d1ce26ea5761007c35827e1564d86c\": [{\"year\": 1565, \"wheat\": 41.0, \"wages\": 5.0}, {\"year\": 1570, \"wheat\": 45.0, \"wages\": 5.05}, {\"year\": 1575, \"wheat\": 42.0, \"wages\": 5.08}, {\"year\": 1580, \"wheat\": 49.0, \"wages\": 5.12}, {\"year\": 1585, \"wheat\": 41.5, \"wages\": 5.15}, {\"year\": 1590, \"wheat\": 47.0, \"wages\": 5.25}, {\"year\": 1595, \"wheat\": 64.0, \"wages\": 5.54}, {\"year\": 1600, \"wheat\": 27.0, \"wages\": 5.61}, {\"year\": 1605, \"wheat\": 33.0, \"wages\": 5.69}, {\"year\": 1610, \"wheat\": 32.0, \"wages\": 5.78}, {\"year\": 1615, \"wheat\": 33.0, \"wages\": 5.94}, {\"year\": 1620, \"wheat\": 35.0, \"wages\": 6.01}, {\"year\": 1625, \"wheat\": 33.0, \"wages\": 6.12}, {\"year\": 1630, \"wheat\": 45.0, \"wages\": 6.22}, {\"year\": 1635, \"wheat\": 33.0, \"wages\": 6.3}, {\"year\": 1640, \"wheat\": 39.0, \"wages\": 6.37}, {\"year\": 1645, \"wheat\": 53.0, \"wages\": 6.45}, {\"year\": 1650, \"wheat\": 42.0, \"wages\": 6.5}, {\"year\": 1655, \"wheat\": 40.5, \"wages\": 6.6}, {\"year\": 1660, \"wheat\": 46.5, \"wages\": 6.75}, {\"year\": 1665, \"wheat\": 32.0, \"wages\": 6.8}, {\"year\": 1670, \"wheat\": 37.0, \"wages\": 6.9}, {\"year\": 1675, \"wheat\": 43.0, \"wages\": 7.0}, {\"year\": 1680, \"wheat\": 35.0, \"wages\": 7.3}, {\"year\": 1685, \"wheat\": 27.0, \"wages\": 7.6}, {\"year\": 1690, \"wheat\": 40.0, \"wages\": 8.0}, {\"year\": 1695, \"wheat\": 50.0, \"wages\": 8.5}, {\"year\": 1700, \"wheat\": 30.0, \"wages\": 9.0}, {\"year\": 1705, \"wheat\": 32.0, \"wages\": 10.0}, {\"year\": 1710, \"wheat\": 44.0, \"wages\": 11.0}, {\"year\": 1715, \"wheat\": 33.0, \"wages\": 11.75}, {\"year\": 1720, \"wheat\": 29.0, \"wages\": 12.5}, {\"year\": 1725, \"wheat\": 39.0, \"wages\": 13.0}, {\"year\": 1730, \"wheat\": 26.0, \"wages\": 13.3}, {\"year\": 1735, \"wheat\": 32.0, \"wages\": 13.6}, {\"year\": 1740, \"wheat\": 27.0, \"wages\": 14.0}, {\"year\": 1745, \"wheat\": 27.5, \"wages\": 14.5}, {\"year\": 1750, \"wheat\": 31.0, \"wages\": 15.0}, {\"year\": 1755, \"wheat\": 35.5, \"wages\": 15.7}, {\"year\": 1760, \"wheat\": 31.0, \"wages\": 16.5}, {\"year\": 1765, \"wheat\": 43.0, \"wages\": 17.6}, {\"year\": 1770, \"wheat\": 47.0, \"wages\": 18.5}, {\"year\": 1775, \"wheat\": 44.0, \"wages\": 19.5}, {\"year\": 1780, \"wheat\": 46.0, \"wages\": 21.0}, {\"year\": 1785, \"wheat\": 42.0, \"wages\": 23.0}, {\"year\": 1790, \"wheat\": 47.5, \"wages\": 25.5}, {\"year\": 1795, \"wheat\": 76.0, \"wages\": 27.5}, {\"year\": 1800, \"wheat\": 79.0, \"wages\": 28.5}, {\"year\": 1805, \"wheat\": 81.0, \"wages\": 29.5}, {\"year\": 1810, \"wheat\": 99.0, \"wages\": 30.0}, {\"year\": 1815, \"wheat\": 78.0, \"wages\": null}, {\"year\": 1820, \"wheat\": 54.0, \"wages\": null}]}}, {\"mode\": \"vega-lite\"});\n",
       "</script>"
      ],
      "text/plain": [
       "alt.LayerChart(...)"
      ]
     },
     "execution_count": 1,
     "metadata": {},
     "output_type": "execute_result"
    }
   ],
   "source": [
    "import altair as alt\n",
    "from vega_datasets import data\n",
    "\n",
    "source = data.wheat()\n",
    "\n",
    "bar = alt.Chart(source).mark_bar().encode(\n",
    "    x='year:O',\n",
    "    y='wheat:Q'\n",
    ")\n",
    "\n",
    "rule = alt.Chart(source).mark_rule(color='red').encode(\n",
    "    y='mean(wheat):Q'\n",
    ")\n",
    "\n",
    "(bar + rule).properties(width=600)"
   ]
  },
  {
   "cell_type": "code",
   "execution_count": null,
   "id": "d9d3664b-da3a-43f0-a5ad-4f852ec88b06",
   "metadata": {},
   "outputs": [],
   "source": []
  }
 ],
 "metadata": {
  "kernelspec": {
   "display_name": "Python 3",
   "language": "python",
   "name": "python3"
  },
  "language_info": {
   "codemirror_mode": {
    "name": "ipython",
    "version": 3
   },
   "file_extension": ".py",
   "mimetype": "text/x-python",
   "name": "python",
   "nbconvert_exporter": "python",
   "pygments_lexer": "ipython3",
   "version": "3.8.8"
  }
 },
 "nbformat": 4,
 "nbformat_minor": 5
}
