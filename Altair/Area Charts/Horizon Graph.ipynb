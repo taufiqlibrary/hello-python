{
 "cells": [
  {
   "cell_type": "code",
   "execution_count": 1,
   "id": "dea022e2-9a08-4e83-b7ea-bb9ed8b1688e",
   "metadata": {},
   "outputs": [
    {
     "data": {
      "text/html": [
       "\n",
       "<div id=\"altair-viz-f60cb042e50c4d0f80e80f3e582ffc52\"></div>\n",
       "<script type=\"text/javascript\">\n",
       "  (function(spec, embedOpt){\n",
       "    let outputDiv = document.currentScript.previousElementSibling;\n",
       "    if (outputDiv.id !== \"altair-viz-f60cb042e50c4d0f80e80f3e582ffc52\") {\n",
       "      outputDiv = document.getElementById(\"altair-viz-f60cb042e50c4d0f80e80f3e582ffc52\");\n",
       "    }\n",
       "    const paths = {\n",
       "      \"vega\": \"https://cdn.jsdelivr.net/npm//vega@5?noext\",\n",
       "      \"vega-lib\": \"https://cdn.jsdelivr.net/npm//vega-lib?noext\",\n",
       "      \"vega-lite\": \"https://cdn.jsdelivr.net/npm//vega-lite@4.8.1?noext\",\n",
       "      \"vega-embed\": \"https://cdn.jsdelivr.net/npm//vega-embed@6?noext\",\n",
       "    };\n",
       "\n",
       "    function loadScript(lib) {\n",
       "      return new Promise(function(resolve, reject) {\n",
       "        var s = document.createElement('script');\n",
       "        s.src = paths[lib];\n",
       "        s.async = true;\n",
       "        s.onload = () => resolve(paths[lib]);\n",
       "        s.onerror = () => reject(`Error loading script: ${paths[lib]}`);\n",
       "        document.getElementsByTagName(\"head\")[0].appendChild(s);\n",
       "      });\n",
       "    }\n",
       "\n",
       "    function showError(err) {\n",
       "      outputDiv.innerHTML = `<div class=\"error\" style=\"color:red;\">${err}</div>`;\n",
       "      throw err;\n",
       "    }\n",
       "\n",
       "    function displayChart(vegaEmbed) {\n",
       "      vegaEmbed(outputDiv, spec, embedOpt)\n",
       "        .catch(err => showError(`Javascript Error: ${err.message}<br>This usually means there's a typo in your chart specification. See the javascript console for the full traceback.`));\n",
       "    }\n",
       "\n",
       "    if(typeof define === \"function\" && define.amd) {\n",
       "      requirejs.config({paths});\n",
       "      require([\"vega-embed\"], displayChart, err => showError(`Error loading script: ${err.message}`));\n",
       "    } else if (typeof vegaEmbed === \"function\") {\n",
       "      displayChart(vegaEmbed);\n",
       "    } else {\n",
       "      loadScript(\"vega\")\n",
       "        .then(() => loadScript(\"vega-lite\"))\n",
       "        .then(() => loadScript(\"vega-embed\"))\n",
       "        .catch(showError)\n",
       "        .then(() => displayChart(vegaEmbed));\n",
       "    }\n",
       "  })({\"config\": {\"view\": {\"continuousWidth\": 400, \"continuousHeight\": 300}}, \"layer\": [{\"mark\": {\"type\": \"area\", \"clip\": true, \"interpolate\": \"monotone\"}, \"encoding\": {\"opacity\": {\"value\": 0.6}, \"x\": {\"type\": \"quantitative\", \"field\": \"x\", \"scale\": {\"nice\": false, \"zero\": false}}, \"y\": {\"type\": \"quantitative\", \"field\": \"y\", \"scale\": {\"domain\": [0, 50]}, \"title\": \"y\"}}, \"height\": 75, \"width\": 500}, {\"mark\": {\"type\": \"area\", \"clip\": true, \"interpolate\": \"monotone\"}, \"encoding\": {\"opacity\": {\"value\": 0.6}, \"x\": {\"type\": \"quantitative\", \"field\": \"x\", \"scale\": {\"nice\": false, \"zero\": false}}, \"y\": {\"type\": \"quantitative\", \"field\": \"ny\", \"scale\": {\"domain\": [0, 50]}}}, \"height\": 75, \"transform\": [{\"calculate\": \"(datum.y - 50)\", \"as\": \"ny\"}], \"width\": 500}], \"data\": {\"name\": \"data-5f9e6e06c1ea70f051c1f4e739c3a610\"}, \"$schema\": \"https://vega.github.io/schema/vega-lite/v4.8.1.json\", \"datasets\": {\"data-5f9e6e06c1ea70f051c1f4e739c3a610\": [{\"x\": 1, \"y\": 28}, {\"x\": 2, \"y\": 55}, {\"x\": 3, \"y\": 43}, {\"x\": 4, \"y\": 91}, {\"x\": 5, \"y\": 81}, {\"x\": 6, \"y\": 53}, {\"x\": 7, \"y\": 19}, {\"x\": 8, \"y\": 87}, {\"x\": 9, \"y\": 52}, {\"x\": 10, \"y\": 48}, {\"x\": 11, \"y\": 24}, {\"x\": 12, \"y\": 49}, {\"x\": 13, \"y\": 87}, {\"x\": 14, \"y\": 66}, {\"x\": 15, \"y\": 17}, {\"x\": 16, \"y\": 27}, {\"x\": 17, \"y\": 68}, {\"x\": 18, \"y\": 16}, {\"x\": 19, \"y\": 49}, {\"x\": 20, \"y\": 15}]}}, {\"mode\": \"vega-lite\"});\n",
       "</script>"
      ],
      "text/plain": [
       "alt.LayerChart(...)"
      ]
     },
     "execution_count": 1,
     "metadata": {},
     "output_type": "execute_result"
    }
   ],
   "source": [
    "import altair as alt\n",
    "import pandas as pd\n",
    "\n",
    "source = pd.DataFrame([\n",
    "    {\"x\": 1, \"y\": 28}, {\"x\": 2, \"y\": 55},\n",
    "    {\"x\": 3, \"y\": 43}, {\"x\": 4, \"y\": 91},\n",
    "    {\"x\": 5, \"y\": 81}, {\"x\": 6, \"y\": 53},\n",
    "    {\"x\": 7, \"y\": 19}, {\"x\": 8, \"y\": 87},\n",
    "    {\"x\": 9, \"y\": 52}, {\"x\": 10, \"y\": 48},\n",
    "    {\"x\": 11, \"y\": 24}, {\"x\": 12, \"y\": 49},\n",
    "    {\"x\": 13, \"y\": 87}, {\"x\": 14, \"y\": 66},\n",
    "    {\"x\": 15, \"y\": 17}, {\"x\": 16, \"y\": 27},\n",
    "    {\"x\": 17, \"y\": 68}, {\"x\": 18, \"y\": 16},\n",
    "    {\"x\": 19, \"y\": 49}, {\"x\": 20, \"y\": 15}\n",
    "])\n",
    "\n",
    "area1 = alt.Chart(source).mark_area(\n",
    "    clip=True,\n",
    "    interpolate='monotone'\n",
    ").encode(\n",
    "    alt.X('x', scale=alt.Scale(zero=False, nice=False)),\n",
    "    alt.Y('y', scale=alt.Scale(domain=[0, 50]), title='y'),\n",
    "    opacity=alt.value(0.6)\n",
    ").properties(\n",
    "    width=500,\n",
    "    height=75\n",
    ")\n",
    "\n",
    "area2 = area1.encode(\n",
    "    alt.Y('ny:Q', scale=alt.Scale(domain=[0, 50]))\n",
    ").transform_calculate(\n",
    "    \"ny\", alt.datum.y - 50\n",
    ")\n",
    "\n",
    "area1 + area2"
   ]
  },
  {
   "cell_type": "code",
   "execution_count": null,
   "id": "ac8b7235-d88c-4b9e-9cb0-2ef8cbf3d365",
   "metadata": {},
   "outputs": [],
   "source": []
  }
 ],
 "metadata": {
  "kernelspec": {
   "display_name": "Python 3",
   "language": "python",
   "name": "python3"
  },
  "language_info": {
   "codemirror_mode": {
    "name": "ipython",
    "version": 3
   },
   "file_extension": ".py",
   "mimetype": "text/x-python",
   "name": "python",
   "nbconvert_exporter": "python",
   "pygments_lexer": "ipython3",
   "version": "3.8.8"
  }
 },
 "nbformat": 4,
 "nbformat_minor": 5
}
