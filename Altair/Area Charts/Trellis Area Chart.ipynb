{
 "cells": [
  {
   "cell_type": "code",
   "execution_count": 1,
   "id": "796890e7-3e18-4915-b063-6b3f8e51e2e1",
   "metadata": {},
   "outputs": [
    {
     "data": {
      "text/html": [
       "\n",
       "<div id=\"altair-viz-9261f739258b4d76bc1f168c45cb9d1a\"></div>\n",
       "<script type=\"text/javascript\">\n",
       "  (function(spec, embedOpt){\n",
       "    let outputDiv = document.currentScript.previousElementSibling;\n",
       "    if (outputDiv.id !== \"altair-viz-9261f739258b4d76bc1f168c45cb9d1a\") {\n",
       "      outputDiv = document.getElementById(\"altair-viz-9261f739258b4d76bc1f168c45cb9d1a\");\n",
       "    }\n",
       "    const paths = {\n",
       "      \"vega\": \"https://cdn.jsdelivr.net/npm//vega@5?noext\",\n",
       "      \"vega-lib\": \"https://cdn.jsdelivr.net/npm//vega-lib?noext\",\n",
       "      \"vega-lite\": \"https://cdn.jsdelivr.net/npm//vega-lite@4.8.1?noext\",\n",
       "      \"vega-embed\": \"https://cdn.jsdelivr.net/npm//vega-embed@6?noext\",\n",
       "    };\n",
       "\n",
       "    function loadScript(lib) {\n",
       "      return new Promise(function(resolve, reject) {\n",
       "        var s = document.createElement('script');\n",
       "        s.src = paths[lib];\n",
       "        s.async = true;\n",
       "        s.onload = () => resolve(paths[lib]);\n",
       "        s.onerror = () => reject(`Error loading script: ${paths[lib]}`);\n",
       "        document.getElementsByTagName(\"head\")[0].appendChild(s);\n",
       "      });\n",
       "    }\n",
       "\n",
       "    function showError(err) {\n",
       "      outputDiv.innerHTML = `<div class=\"error\" style=\"color:red;\">${err}</div>`;\n",
       "      throw err;\n",
       "    }\n",
       "\n",
       "    function displayChart(vegaEmbed) {\n",
       "      vegaEmbed(outputDiv, spec, embedOpt)\n",
       "        .catch(err => showError(`Javascript Error: ${err.message}<br>This usually means there's a typo in your chart specification. See the javascript console for the full traceback.`));\n",
       "    }\n",
       "\n",
       "    if(typeof define === \"function\" && define.amd) {\n",
       "      requirejs.config({paths});\n",
       "      require([\"vega-embed\"], displayChart, err => showError(`Error loading script: ${err.message}`));\n",
       "    } else if (typeof vegaEmbed === \"function\") {\n",
       "      displayChart(vegaEmbed);\n",
       "    } else {\n",
       "      loadScript(\"vega\")\n",
       "        .then(() => loadScript(\"vega-lite\"))\n",
       "        .then(() => loadScript(\"vega-embed\"))\n",
       "        .catch(showError)\n",
       "        .then(() => displayChart(vegaEmbed));\n",
       "    }\n",
       "  })({\"config\": {\"view\": {\"continuousWidth\": 400, \"continuousHeight\": 300}}, \"data\": {\"name\": \"data-bb61008ba0c766c5601afa5323d12ad4\"}, \"mark\": \"area\", \"encoding\": {\"color\": {\"type\": \"nominal\", \"field\": \"source\"}, \"row\": {\"type\": \"nominal\", \"field\": \"source\"}, \"x\": {\"type\": \"temporal\", \"field\": \"year\"}, \"y\": {\"type\": \"quantitative\", \"field\": \"net_generation\"}}, \"height\": 100, \"$schema\": \"https://vega.github.io/schema/vega-lite/v4.8.1.json\", \"datasets\": {\"data-bb61008ba0c766c5601afa5323d12ad4\": [{\"year\": \"2001-01-01T00:00:00\", \"source\": \"Fossil Fuels\", \"net_generation\": 35361}, {\"year\": \"2002-01-01T00:00:00\", \"source\": \"Fossil Fuels\", \"net_generation\": 35991}, {\"year\": \"2003-01-01T00:00:00\", \"source\": \"Fossil Fuels\", \"net_generation\": 36234}, {\"year\": \"2004-01-01T00:00:00\", \"source\": \"Fossil Fuels\", \"net_generation\": 36205}, {\"year\": \"2005-01-01T00:00:00\", \"source\": \"Fossil Fuels\", \"net_generation\": 36883}, {\"year\": \"2006-01-01T00:00:00\", \"source\": \"Fossil Fuels\", \"net_generation\": 37014}, {\"year\": \"2007-01-01T00:00:00\", \"source\": \"Fossil Fuels\", \"net_generation\": 41389}, {\"year\": \"2008-01-01T00:00:00\", \"source\": \"Fossil Fuels\", \"net_generation\": 42734}, {\"year\": \"2009-01-01T00:00:00\", \"source\": \"Fossil Fuels\", \"net_generation\": 38620}, {\"year\": \"2010-01-01T00:00:00\", \"source\": \"Fossil Fuels\", \"net_generation\": 42750}, {\"year\": \"2011-01-01T00:00:00\", \"source\": \"Fossil Fuels\", \"net_generation\": 39361}, {\"year\": \"2012-01-01T00:00:00\", \"source\": \"Fossil Fuels\", \"net_generation\": 37379}, {\"year\": \"2013-01-01T00:00:00\", \"source\": \"Fossil Fuels\", \"net_generation\": 34873}, {\"year\": \"2014-01-01T00:00:00\", \"source\": \"Fossil Fuels\", \"net_generation\": 35250}, {\"year\": \"2015-01-01T00:00:00\", \"source\": \"Fossil Fuels\", \"net_generation\": 32319}, {\"year\": \"2016-01-01T00:00:00\", \"source\": \"Fossil Fuels\", \"net_generation\": 28437}, {\"year\": \"2017-01-01T00:00:00\", \"source\": \"Fossil Fuels\", \"net_generation\": 29329}, {\"year\": \"2001-01-01T00:00:00\", \"source\": \"Nuclear Energy\", \"net_generation\": 3853}, {\"year\": \"2002-01-01T00:00:00\", \"source\": \"Nuclear Energy\", \"net_generation\": 4574}, {\"year\": \"2003-01-01T00:00:00\", \"source\": \"Nuclear Energy\", \"net_generation\": 3988}, {\"year\": \"2004-01-01T00:00:00\", \"source\": \"Nuclear Energy\", \"net_generation\": 4929}, {\"year\": \"2005-01-01T00:00:00\", \"source\": \"Nuclear Energy\", \"net_generation\": 4538}, {\"year\": \"2006-01-01T00:00:00\", \"source\": \"Nuclear Energy\", \"net_generation\": 5095}, {\"year\": \"2007-01-01T00:00:00\", \"source\": \"Nuclear Energy\", \"net_generation\": 4519}, {\"year\": \"2008-01-01T00:00:00\", \"source\": \"Nuclear Energy\", \"net_generation\": 5282}, {\"year\": \"2009-01-01T00:00:00\", \"source\": \"Nuclear Energy\", \"net_generation\": 4679}, {\"year\": \"2010-01-01T00:00:00\", \"source\": \"Nuclear Energy\", \"net_generation\": 4451}, {\"year\": \"2011-01-01T00:00:00\", \"source\": \"Nuclear Energy\", \"net_generation\": 5215}, {\"year\": \"2012-01-01T00:00:00\", \"source\": \"Nuclear Energy\", \"net_generation\": 4347}, {\"year\": \"2013-01-01T00:00:00\", \"source\": \"Nuclear Energy\", \"net_generation\": 5321}, {\"year\": \"2014-01-01T00:00:00\", \"source\": \"Nuclear Energy\", \"net_generation\": 4152}, {\"year\": \"2015-01-01T00:00:00\", \"source\": \"Nuclear Energy\", \"net_generation\": 5243}, {\"year\": \"2016-01-01T00:00:00\", \"source\": \"Nuclear Energy\", \"net_generation\": 4703}, {\"year\": \"2017-01-01T00:00:00\", \"source\": \"Nuclear Energy\", \"net_generation\": 5214}, {\"year\": \"2001-01-01T00:00:00\", \"source\": \"Renewables\", \"net_generation\": 1437}, {\"year\": \"2002-01-01T00:00:00\", \"source\": \"Renewables\", \"net_generation\": 1963}, {\"year\": \"2003-01-01T00:00:00\", \"source\": \"Renewables\", \"net_generation\": 1885}, {\"year\": \"2004-01-01T00:00:00\", \"source\": \"Renewables\", \"net_generation\": 2102}, {\"year\": \"2005-01-01T00:00:00\", \"source\": \"Renewables\", \"net_generation\": 2724}, {\"year\": \"2006-01-01T00:00:00\", \"source\": \"Renewables\", \"net_generation\": 3364}, {\"year\": \"2007-01-01T00:00:00\", \"source\": \"Renewables\", \"net_generation\": 3870}, {\"year\": \"2008-01-01T00:00:00\", \"source\": \"Renewables\", \"net_generation\": 5070}, {\"year\": \"2009-01-01T00:00:00\", \"source\": \"Renewables\", \"net_generation\": 8560}, {\"year\": \"2010-01-01T00:00:00\", \"source\": \"Renewables\", \"net_generation\": 10308}, {\"year\": \"2011-01-01T00:00:00\", \"source\": \"Renewables\", \"net_generation\": 11795}, {\"year\": \"2012-01-01T00:00:00\", \"source\": \"Renewables\", \"net_generation\": 14949}, {\"year\": \"2013-01-01T00:00:00\", \"source\": \"Renewables\", \"net_generation\": 16476}, {\"year\": \"2014-01-01T00:00:00\", \"source\": \"Renewables\", \"net_generation\": 17452}, {\"year\": \"2015-01-01T00:00:00\", \"source\": \"Renewables\", \"net_generation\": 19091}, {\"year\": \"2016-01-01T00:00:00\", \"source\": \"Renewables\", \"net_generation\": 21241}, {\"year\": \"2017-01-01T00:00:00\", \"source\": \"Renewables\", \"net_generation\": 21933}]}}, {\"mode\": \"vega-lite\"});\n",
       "</script>"
      ],
      "text/plain": [
       "alt.Chart(...)"
      ]
     },
     "execution_count": 1,
     "metadata": {},
     "output_type": "execute_result"
    }
   ],
   "source": [
    "import altair as alt\n",
    "from vega_datasets import data\n",
    "\n",
    "source = data.iowa_electricity()\n",
    "\n",
    "alt.Chart(source).mark_area().encode(\n",
    "    x=\"year:T\",\n",
    "    y=\"net_generation:Q\",\n",
    "    color=\"source:N\",\n",
    "    row=\"source:N\"\n",
    ").properties(\n",
    "    height=100\n",
    ")"
   ]
  },
  {
   "cell_type": "code",
   "execution_count": null,
   "id": "be83dab0-1a8e-4757-8550-1a419960ba4d",
   "metadata": {},
   "outputs": [],
   "source": []
  }
 ],
 "metadata": {
  "kernelspec": {
   "display_name": "Python 3",
   "language": "python",
   "name": "python3"
  },
  "language_info": {
   "codemirror_mode": {
    "name": "ipython",
    "version": 3
   },
   "file_extension": ".py",
   "mimetype": "text/x-python",
   "name": "python",
   "nbconvert_exporter": "python",
   "pygments_lexer": "ipython3",
   "version": "3.8.8"
  }
 },
 "nbformat": 4,
 "nbformat_minor": 5
}
